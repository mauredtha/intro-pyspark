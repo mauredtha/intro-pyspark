{
  "nbformat": 4,
  "nbformat_minor": 0,
  "metadata": {
    "colab": {
      "name": "TechnicalTest_Deryan.ipynb",
      "provenance": [],
      "collapsed_sections": [],
      "toc_visible": true
    },
    "kernelspec": {
      "name": "python3",
      "display_name": "Python 3"
    }
  },
  "cells": [
    {
      "cell_type": "markdown",
      "metadata": {
        "id": "CtJwQkfZ7H-3"
      },
      "source": [
        "# 1. A) How many box? How many cakes and apples does every box have?\n",
        "\n",
        "\n",
        "\n",
        "\n",
        "\n",
        "\n"
      ]
    },
    {
      "cell_type": "markdown",
      "metadata": {
        "id": "use1IzEqHGxr"
      },
      "source": [
        "Diketahui, Ainun memiliki :\n",
        "```\n",
        "cakes = 20\n",
        "apples = 25\n",
        "```\n",
        "Berapa banyak kotak yang Ainun bisa buat? Maka bisa menggunakan \n",
        "perhitungan FPB (Faktor Persekutuan Terbesar) dari cakes dan apples yang dimiliki Ainun.\n",
        "\n",
        "```\n",
        "20       dan    25\n",
        "/\\              /\\\n",
        "2 10            5 5\n",
        "  /\\\n",
        "  2 5\n",
        "```\n",
        "Faktorisasi prima\n",
        "\n",
        "20 = 2² × 5\n",
        "\n",
        "25 = 5²\n",
        "\n",
        "FPB dari 20 dan 25 = 5\n",
        "\n",
        "Jadi, Aiunun dapat membuat 5 kotak untuk dibagikan kepada temannya.\n",
        "\n",
        "Lalu ada berapa cakes dan apples di setiap kotaknya, jika cakes dan apples dibagi rata setiap kotak ?\n",
        "\n",
        "```\n",
        "cakes  = 20 : 5 \n",
        "       = 4\n",
        "apples = 25 : 5\n",
        "       = 5\n",
        "```\n",
        "\n",
        "Jadi ada 4 cakes dan 5 apples per kotak-nya"
      ]
    },
    {
      "cell_type": "markdown",
      "metadata": {
        "id": "DkxKtc_OCkEH"
      },
      "source": [
        "# 1. B) Create function to count boxes Ainun can make"
      ]
    },
    {
      "cell_type": "code",
      "metadata": {
        "id": "eC9UG5sk60N_"
      },
      "source": [
        "def count_box(a,b):\n",
        "    if a<b:\n",
        "        smaller=a\n",
        "    else:\n",
        "        smaller=b\n",
        "    for i in range (1,smaller+1):\n",
        "        if (a%i==0) and (b%i==0):\n",
        "            fpb=i\n",
        "    return fpb"
      ],
      "execution_count": null,
      "outputs": []
    },
    {
      "cell_type": "markdown",
      "metadata": {
        "id": "MYYydAfSDSlq"
      },
      "source": [
        "# 1. C) Create function to count how many cake and apple in a box"
      ]
    },
    {
      "cell_type": "code",
      "metadata": {
        "id": "ImBeV-40DSFT"
      },
      "source": [
        "def division_val_box(val, val_fpb):\n",
        "  count = val/val_fpb\n",
        "  return int(count)"
      ],
      "execution_count": null,
      "outputs": []
    },
    {
      "cell_type": "markdown",
      "metadata": {
        "id": "MCC0hR13EHYc"
      },
      "source": [
        "# 1. D) Unit test for the function\n",
        "\n",
        "pada unit test function ini dilakukan dengan kondisi yang dinyatakan pada point **E) Apel dan kue dibagi rata setiap kotak **"
      ]
    },
    {
      "cell_type": "code",
      "metadata": {
        "colab": {
          "base_uri": "https://localhost:8080/"
        },
        "id": "0TzSTGD3EPCR",
        "outputId": "1dace2fb-fef0-4dee-ab59-ce866adca968"
      },
      "source": [
        "#jika sudah memiliki nilai tetap seperti contoh case ainun\n",
        "#Unit tes untuk function count_box()\n",
        "\n",
        "num1 = 20\n",
        "num2 = 25\n",
        "\n",
        "print(\"Ainun must have\", count_box(num1, num2), \"box\")"
      ],
      "execution_count": null,
      "outputs": [
        {
          "output_type": "stream",
          "text": [
            "Ainun must have 5 box\n"
          ],
          "name": "stdout"
        }
      ]
    },
    {
      "cell_type": "code",
      "metadata": {
        "colab": {
          "base_uri": "https://localhost:8080/"
        },
        "id": "p7yuf_0K5O9Z",
        "outputId": "7581950b-e119-4184-921a-3044431ab9ea"
      },
      "source": [
        "#Unit tes untuk function division_val_box() --> pembagian apples dan cakes per box\n",
        "print(\"There are\", division_val_box(num1, count_box(num1, num2)), \"apples and\", division_val_box(num2, count_box(num1, num2)), \"cakes per box\" )"
      ],
      "execution_count": null,
      "outputs": [
        {
          "output_type": "stream",
          "text": [
            "There are 4 apples and 5 cakes per box\n"
          ],
          "name": "stdout"
        }
      ]
    },
    {
      "cell_type": "code",
      "metadata": {
        "colab": {
          "base_uri": "https://localhost:8080/"
        },
        "id": "wQyJ_3dD5hw9",
        "outputId": "56a51abb-8c69-41d7-b278-1b1fde39415b"
      },
      "source": [
        "print(\"Ainun must have\", count_box(num1, num2), \"box\")\n",
        "print(\"There are\", division_val_box(num1, count_box(num1, num2)), \"apples and\", division_val_box(num2, count_box(num1, num2)), \"cakes per box\" )"
      ],
      "execution_count": null,
      "outputs": [
        {
          "output_type": "stream",
          "text": [
            "Ainun must have 5 box\n",
            "There are 4 apples and 5 cakes per box\n"
          ],
          "name": "stdout"
        }
      ]
    },
    {
      "cell_type": "code",
      "metadata": {
        "colab": {
          "base_uri": "https://localhost:8080/"
        },
        "id": "K_mALPmWEhpV",
        "outputId": "0c4883da-8b35-4d3b-f680-fc9085fc2312"
      },
      "source": [
        "#jika nilai ditentukan melalui inputan yang diinginkan\n",
        "\n",
        "nama=input('Masukkan nama kamu :')\n",
        "num1=int(input('Masukkan angka pertama :'))\n",
        "num2=int(input('Masukkan angka kedua   :'))\n",
        "\n",
        "print(nama, \"must have\", count_box(num1, num2), \"box\")\n",
        "print(\"There are\", division_val_box(num1, count_box(num1, num2)), \"apples and\", division_val_box(num2, count_box(num1, num2)), \"cakes per box\" )\n"
      ],
      "execution_count": null,
      "outputs": [
        {
          "output_type": "stream",
          "text": [
            "Masukkan nama kamu :Deryan\n",
            "Masukkan angka pertama :20\n",
            "Masukkan angka kedua   :30\n",
            "Deryan must have 10 box\n",
            "There are 2 apples and 3 cakes per box\n"
          ],
          "name": "stdout"
        }
      ]
    },
    {
      "cell_type": "markdown",
      "metadata": {
        "id": "0oyo3130HTVn"
      },
      "source": [
        "# 2. Create a query (using Spark SQL)"
      ]
    },
    {
      "cell_type": "markdown",
      "metadata": {
        "id": "lR2XTtXaHcze"
      },
      "source": [
        "Dataset diunduh dari [Link Terkait](https://docs.google.com/spreadsheets/d/1kbytU6fCaen0YvV-UAam9pbGQcqmQXZDvjYPeZfCUns/edit?usp=sharing) yang sudah disediakan, dengan memisah setiap sheet menjadi dataframe setiap entitas, kemudian diunggah ke colab sebagai data temporary.\n",
        "\n",
        "**Melakukan instalasi dan load library pyspark untuk dapat menjalankan Spark SQL**"
      ]
    },
    {
      "cell_type": "code",
      "metadata": {
        "id": "j8V4yweGISHr"
      },
      "source": [
        "!apt-get install openjdk-8-jdk-headless -qq > /dev/null\n",
        "!wget -q https://downloads.apache.org/spark/spark-3.1.1/spark-3.1.1-bin-hadoop2.7.tgz\n",
        "!tar xf spark-3.1.1-bin-hadoop2.7.tgz\n",
        "!pip install -q findspark"
      ],
      "execution_count": null,
      "outputs": []
    },
    {
      "cell_type": "code",
      "metadata": {
        "id": "ZE7yhODPIn3N"
      },
      "source": [
        "import os\n",
        "os.environ[\"JAVA_HOME\"] = \"/usr/lib/jvm/java-8-openjdk-amd64\"\n",
        "os.environ[\"SPARK_HOME\"] = \"/content/spark-3.1.1-bin-hadoop2.7\""
      ],
      "execution_count": null,
      "outputs": []
    },
    {
      "cell_type": "code",
      "metadata": {
        "id": "MyAZClI1IqIQ"
      },
      "source": [
        "import findspark\n",
        "findspark.init()"
      ],
      "execution_count": null,
      "outputs": []
    },
    {
      "cell_type": "code",
      "metadata": {
        "colab": {
          "base_uri": "https://localhost:8080/",
          "height": 36
        },
        "id": "I_18Kp-pIsfB",
        "outputId": "6b2db821-1dd7-4ac6-82fb-66b8b4b80c9e"
      },
      "source": [
        "findspark.find()"
      ],
      "execution_count": null,
      "outputs": [
        {
          "output_type": "execute_result",
          "data": {
            "application/vnd.google.colaboratory.intrinsic+json": {
              "type": "string"
            },
            "text/plain": [
              "'/content/spark-3.1.1-bin-hadoop2.7'"
            ]
          },
          "metadata": {
            "tags": []
          },
          "execution_count": 5
        }
      ]
    },
    {
      "cell_type": "code",
      "metadata": {
        "id": "JrBnzbTrIuqR"
      },
      "source": [
        "import pandas as pd\n",
        "from pyspark.sql import SparkSession\n",
        "\n",
        "spark = SparkSession.builder\\\n",
        "        .master(\"local\")\\\n",
        "        .appName(\"Colab\")\\\n",
        "        .config('spark.ui.port', '4050')\\\n",
        "        .getOrCreate()"
      ],
      "execution_count": null,
      "outputs": []
    },
    {
      "cell_type": "code",
      "metadata": {
        "colab": {
          "base_uri": "https://localhost:8080/",
          "height": 223
        },
        "id": "7666fg0OI2gq",
        "outputId": "406cc236-f617-4828-838f-a447e7effb95"
      },
      "source": [
        "spark"
      ],
      "execution_count": null,
      "outputs": [
        {
          "output_type": "execute_result",
          "data": {
            "text/html": [
              "\n",
              "            <div>\n",
              "                <p><b>SparkSession - in-memory</b></p>\n",
              "                \n",
              "        <div>\n",
              "            <p><b>SparkContext</b></p>\n",
              "\n",
              "            <p><a href=\"http://889c4bda3ce2:4050\">Spark UI</a></p>\n",
              "\n",
              "            <dl>\n",
              "              <dt>Version</dt>\n",
              "                <dd><code>v3.1.1</code></dd>\n",
              "              <dt>Master</dt>\n",
              "                <dd><code>local</code></dd>\n",
              "              <dt>AppName</dt>\n",
              "                <dd><code>Colab</code></dd>\n",
              "            </dl>\n",
              "        </div>\n",
              "        \n",
              "            </div>\n",
              "        "
            ],
            "text/plain": [
              "<pyspark.sql.session.SparkSession at 0x7f84bb5b0810>"
            ]
          },
          "metadata": {
            "tags": []
          },
          "execution_count": 7
        }
      ]
    },
    {
      "cell_type": "code",
      "metadata": {
        "colab": {
          "base_uri": "https://localhost:8080/"
        },
        "id": "F6zcBuGsI4Ul",
        "outputId": "17e2a5e6-aaf9-4956-9440-487aaefda936"
      },
      "source": [
        "#untuk bisa mengakses Spark GUI\n",
        "!wget https://bin.equinox.io/c/4VmDzA7iaHb/ngrok-stable-linux-amd64.zip\n",
        "!unzip ngrok-stable-linux-amd64.zip\n",
        "get_ipython().system_raw('./ngrok http 4050 &')\n",
        "!curl -s http://localhost:4040/api/tunnels"
      ],
      "execution_count": null,
      "outputs": [
        {
          "output_type": "stream",
          "text": [
            "--2021-03-19 03:59:41--  https://bin.equinox.io/c/4VmDzA7iaHb/ngrok-stable-linux-amd64.zip\n",
            "Resolving bin.equinox.io (bin.equinox.io)... 52.45.2.52, 34.198.117.197, 52.203.96.188, ...\n",
            "Connecting to bin.equinox.io (bin.equinox.io)|52.45.2.52|:443... connected.\n",
            "HTTP request sent, awaiting response... 200 OK\n",
            "Length: 13773305 (13M) [application/octet-stream]\n",
            "Saving to: ‘ngrok-stable-linux-amd64.zip.1’\n",
            "\n",
            "ngrok-stable-linux- 100%[===================>]  13.13M  20.8MB/s    in 0.6s    \n",
            "\n",
            "2021-03-19 03:59:41 (20.8 MB/s) - ‘ngrok-stable-linux-amd64.zip.1’ saved [13773305/13773305]\n",
            "\n",
            "Archive:  ngrok-stable-linux-amd64.zip\n",
            "replace ngrok? [y]es, [n]o, [A]ll, [N]one, [r]ename: y\n",
            "  inflating: ngrok                   \n",
            "{\"tunnels\":[{\"name\":\"command_line (http)\",\"uri\":\"/api/tunnels/command_line%20%28http%29\",\"public_url\":\"http://e52d1d2674f5.ngrok.io\",\"proto\":\"http\",\"config\":{\"addr\":\"http://localhost:4050\",\"inspect\":true},\"metrics\":{\"conns\":{\"count\":0,\"gauge\":0,\"rate1\":0,\"rate5\":0,\"rate15\":0,\"p50\":0,\"p90\":0,\"p95\":0,\"p99\":0},\"http\":{\"count\":0,\"rate1\":0,\"rate5\":0,\"rate15\":0,\"p50\":0,\"p90\":0,\"p95\":0,\"p99\":0}}},{\"name\":\"command_line\",\"uri\":\"/api/tunnels/command_line\",\"public_url\":\"https://e52d1d2674f5.ngrok.io\",\"proto\":\"https\",\"config\":{\"addr\":\"http://localhost:4050\",\"inspect\":true},\"metrics\":{\"conns\":{\"count\":0,\"gauge\":0,\"rate1\":0,\"rate5\":0,\"rate15\":0,\"p50\":0,\"p90\":0,\"p95\":0,\"p99\":0},\"http\":{\"count\":0,\"rate1\":0,\"rate5\":0,\"rate15\":0,\"p50\":0,\"p90\":0,\"p95\":0,\"p99\":0}}}],\"uri\":\"/api/tunnels\"}\n"
          ],
          "name": "stdout"
        }
      ]
    },
    {
      "cell_type": "code",
      "metadata": {
        "id": "aCNMLOs1JH34"
      },
      "source": [
        "#load dataset\n",
        "donation = spark.read.csv(\"donation.csv\", header=True, inferSchema=True)\n",
        "donation_statuses = spark.read.csv(\"donation_statuses.csv\", header=True, inferSchema=True)\n",
        "campaign = spark.read.csv(\"campaign.csv\", header=True, inferSchema=True)\n",
        "campaign_flag = spark.read.csv(\"campaign_flag.csv\", header=True, inferSchema=True)\n",
        "ticket = spark.read.csv(\"ticket.csv\", header=True, inferSchema=True)\n",
        "user = spark.read.csv(\"user.csv\", header=True, inferSchema=True)\n",
        "visit = spark.read.csv(\"visit.csv\", header=True, inferSchema=True)\n",
        "ads_spent = spark.read.csv(\"ads_spent.csv\", header=True, inferSchema=True)"
      ],
      "execution_count": null,
      "outputs": []
    },
    {
      "cell_type": "code",
      "metadata": {
        "id": "RThtDX0TJ__R"
      },
      "source": [
        "donation.createOrReplaceTempView(\"donation\")\n",
        "donation_statuses.createOrReplaceTempView(\"donation_statuses\")\n",
        "campaign.createOrReplaceTempView(\"campaign\")\n",
        "campaign_flag.createOrReplaceTempView(\"campaign_flag\")\n",
        "ticket.createOrReplaceTempView(\"ticket\")\n",
        "user.createOrReplaceTempView(\"user\")\n",
        "visit.createOrReplaceTempView(\"visit\")\n",
        "ads_spent.createOrReplaceTempView(\"ads_spent\")"
      ],
      "execution_count": null,
      "outputs": []
    },
    {
      "cell_type": "code",
      "metadata": {
        "colab": {
          "base_uri": "https://localhost:8080/"
        },
        "id": "KRkYARRhKEo_",
        "outputId": "ad1fa773-2c24-4cc6-9530-be0827372359"
      },
      "source": [
        "sqlDF_donation = spark.sql(\"SELECT donation.campaign_id, \" +\n",
        "                           \"TO_DATE(FROM_UNIXTIME(donation.created,'yyyy/MM/dd'), 'yyyy/MM/dd') AS day, \" +\n",
        "                           \"SUM(donation.amount) AS total_amount, COUNT(donation.campaign_id) AS total_donation, \" +\n",
        "                           \"campaign.url \" +\n",
        "                           \"FROM donation \" +\n",
        "                           \"LEFT JOIN campaign ON campaign.id = donation.campaign_id \"\n",
        "                           \"GROUP BY day, donation.campaign_id, campaign.url \" +\n",
        "                           \"ORDER BY day, donation.campaign_id\")\n",
        "sqlDF_donation.show()"
      ],
      "execution_count": null,
      "outputs": [
        {
          "output_type": "stream",
          "text": [
            "+-----------+----------+------------+--------------+---------------+\n",
            "|campaign_id|       day|total_amount|total_donation|            url|\n",
            "+-----------+----------+------------+--------------+---------------+\n",
            "|      18856|2019-12-03|       10000|             1| 1000daitangguh|\n",
            "|      38661|2019-12-03|       30000|             2|     pesawatr80|\n",
            "|     115501|2019-12-03|       31000|             4|     gojeksehat|\n",
            "|      18856|2019-12-04|       10000|             1| 1000daitangguh|\n",
            "|      38661|2019-12-04|       10000|             1|     pesawatr80|\n",
            "|     115501|2019-12-04|       10000|             1|     gojeksehat|\n",
            "|      18856|2019-12-05|       10000|             1| 1000daitangguh|\n",
            "|     115501|2019-12-05|       10000|             1|     gojeksehat|\n",
            "|      18856|2019-12-06|       10000|             1| 1000daitangguh|\n",
            "|      38661|2019-12-06|       25000|             1|     pesawatr80|\n",
            "|      18856|2019-12-07|       40000|             3| 1000daitangguh|\n",
            "|     104915|2019-12-07|      100000|             1|    bisasekolah|\n",
            "|     146467|2019-12-07|      100000|             1|medisrumahsakit|\n",
            "|      38661|2019-12-08|       50000|             1|     pesawatr80|\n",
            "|     115501|2019-12-08|        1000|             1|     gojeksehat|\n",
            "|      38661|2019-12-09|       85000|             5|     pesawatr80|\n",
            "|      87067|2019-12-09|      220000|             1|     bisasembuh|\n",
            "|      18856|2019-12-10|       10000|             1| 1000daitangguh|\n",
            "|      38661|2019-12-11|       20000|             1|     pesawatr80|\n",
            "|     115501|2019-12-11|       10000|             1|     gojeksehat|\n",
            "+-----------+----------+------------+--------------+---------------+\n",
            "only showing top 20 rows\n",
            "\n"
          ],
          "name": "stdout"
        }
      ]
    },
    {
      "cell_type": "code",
      "metadata": {
        "colab": {
          "base_uri": "https://localhost:8080/"
        },
        "id": "aSgFyEfZKNWU",
        "outputId": "bacdfa07-dc84-4c21-b467-68500ba05fd6"
      },
      "source": [
        "sqlDF_donation.createOrReplaceTempView(\"sqlDF_donation\")\n",
        "\n",
        "sqlDF_ads = spark.sql(\"SELECT sqlDF_donation.*, SUM(visit.pageview) AS total_pageview, \" +\n",
        "                      \"SUM(visit.unique_user) AS new_user, ads_spent.spend, \" +\n",
        "                      \"CASE WHEN SUM(visit.pageview) = 0 THEN 0 \" +\n",
        "                      \"ELSE NVL((sqlDF_donation.total_donation / SUM(visit.pageview))*100,0) END convertion_rate, \" +\n",
        "                      \"NVL((ads_spent.spend / sqlDF_donation.total_amount)*100,0) AS percentage_spending_donation \" +\n",
        "                      \"FROM sqlDF_donation \" +\n",
        "                      \"LEFT JOIN visit ON visit.date_id = sqlDF_donation.day \" +\n",
        "                      \"AND sqlDF_donation.url = visit.campaign_url \"+\n",
        "                      \"LEFT JOIN ads_spent ON ads_spent.date_id = sqlDF_donation.day \"\n",
        "                      \"AND sqlDF_donation.url = ads_spent.short_url \"+\n",
        "                      \"GROUP BY sqlDF_donation.day, sqlDF_donation.total_amount, \" +\n",
        "                      \"sqlDF_donation.total_donation, sqlDF_donation.campaign_id, \" +\n",
        "                      \"sqlDF_donation.url, ads_spent.spend \" +\n",
        "                      \"ORDER BY sqlDF_donation.day, sqlDF_donation.campaign_id, convertion_rate DESC \")\n",
        "\n",
        "#menampilkan 20 baris pertama\n",
        "sqlDF_ads.show()"
      ],
      "execution_count": null,
      "outputs": [
        {
          "output_type": "stream",
          "text": [
            "+-----------+----------+------------+--------------+---------------+--------------+--------+-----+-------------------+----------------------------+\n",
            "|campaign_id|       day|total_amount|total_donation|            url|total_pageview|new_user|spend|    convertion_rate|percentage_spending_donation|\n",
            "+-----------+----------+------------+--------------+---------------+--------------+--------+-----+-------------------+----------------------------+\n",
            "|      18856|2019-12-03|       10000|             1| 1000daitangguh|          null|    null| null|                0.0|                         0.0|\n",
            "|      38661|2019-12-03|       30000|             2|     pesawatr80|           877|     120| null|0.22805017103762829|                         0.0|\n",
            "|     115501|2019-12-03|       31000|             4|     gojeksehat|          null|    null| null|                0.0|                         0.0|\n",
            "|      18856|2019-12-04|       10000|             1| 1000daitangguh|          null|    null| null|                0.0|                         0.0|\n",
            "|      38661|2019-12-04|       10000|             1|     pesawatr80|           803|      90| null|0.12453300124533001|                         0.0|\n",
            "|     115501|2019-12-04|       10000|             1|     gojeksehat|          null|    null|88302|                0.0|                      883.02|\n",
            "|      18856|2019-12-05|       10000|             1| 1000daitangguh|          null|    null| null|                0.0|                         0.0|\n",
            "|     115501|2019-12-05|       10000|             1|     gojeksehat|           163|      13| null| 0.6134969325153374|                         0.0|\n",
            "|      18856|2019-12-06|       10000|             1| 1000daitangguh|          null|    null| null|                0.0|                         0.0|\n",
            "|      38661|2019-12-06|       25000|             1|     pesawatr80|          null|    null| null|                0.0|                         0.0|\n",
            "|      18856|2019-12-07|       40000|             3| 1000daitangguh|          null|    null| null|                0.0|                         0.0|\n",
            "|     104915|2019-12-07|      100000|             1|    bisasekolah|          null|    null| null|                0.0|                         0.0|\n",
            "|     146467|2019-12-07|      100000|             1|medisrumahsakit|          null|    null| null|                0.0|                         0.0|\n",
            "|      38661|2019-12-08|       50000|             1|     pesawatr80|          null|    null| null|                0.0|                         0.0|\n",
            "|     115501|2019-12-08|        1000|             1|     gojeksehat|          null|    null| null|                0.0|                         0.0|\n",
            "|      38661|2019-12-09|       85000|             5|     pesawatr80|          null|    null|35526|                0.0|           41.79529411764706|\n",
            "|      87067|2019-12-09|      220000|             1|     bisasembuh|           605|      21| null| 0.1652892561983471|                         0.0|\n",
            "|      18856|2019-12-10|       10000|             1| 1000daitangguh|          null|    null| null|                0.0|                         0.0|\n",
            "|      38661|2019-12-11|       20000|             1|     pesawatr80|          null|    null| null|                0.0|                         0.0|\n",
            "|     115501|2019-12-11|       10000|             1|     gojeksehat|          null|    null| null|                0.0|                         0.0|\n",
            "+-----------+----------+------------+--------------+---------------+--------------+--------+-----+-------------------+----------------------------+\n",
            "only showing top 20 rows\n",
            "\n"
          ],
          "name": "stdout"
        }
      ]
    },
    {
      "cell_type": "markdown",
      "metadata": {
        "id": "jJz73qIGO7RE"
      },
      "source": [
        "\n",
        "\n",
        "```\n",
        "Raw Query :\n",
        "\n",
        "SELECT donation.campaign_id,\n",
        "TO_DATE(FROM_UNIXTIME(donation.created,'yyyy/MM/dd'), 'yyyy/MM/dd') AS day,\n",
        "SUM(donation.amount) AS total_amount,\n",
        "COUNT(donation.campaign_id) AS total_donation,\n",
        "campaign.url, SUM(visit.pageview) AS total_pageview, SUM(visit.unique_user) AS new_user, ads_spent.spend,\n",
        "CASE WHEN SUM(visit.pageview) = 0 THEN 0\n",
        "ELSE NVL((count(donation.campaign_id)/ SUM(visit.pageview))*100,0) END convertion_rate,\n",
        "NVL((ads_spent.spend / sum(donation.amount))*100,0) AS percentage_spending_donation\n",
        "FROM donation\n",
        "LEFT JOIN campaign ON campaign.id = donation.campaign_id\n",
        "LEFT JOIN visit ON visit.date_id = TO_DATE(FROM_UNIXTIME(donation.created,'yyyy/MM/dd'), 'yyyy/MM/dd')\n",
        "AND campaign.url = visit.campaign_url\n",
        "LEFT JOIN ads_spent ON ads_spent.date_id = TO_DATE(FROM_UNIXTIME(donation.created,'yyyy/MM/dd'), 'yyyy/MM/dd')\n",
        "AND campaign.url = ads_spent.short_url\n",
        "GROUP BY day, donation.campaign_id, campaign.url, ads_spent.spend\n",
        "ORDER BY day, donation.campaign_id, convertion_rate DESC\n",
        "```\n",
        "\n"
      ]
    },
    {
      "cell_type": "markdown",
      "metadata": {
        "id": "D0sqgHW7gDCp"
      },
      "source": [
        "# 3. CREATE INDEX"
      ]
    },
    {
      "cell_type": "markdown",
      "metadata": {
        "id": "83_DMuWYgKCm"
      },
      "source": [
        "1. Table Donasi\n",
        "\n",
        "**CREATE UNIQUE INDEX donation_campaign_id_created ON public.donation(campaign_id, created)**\n",
        "\n",
        "2. Table Campaign\n",
        "\n",
        "**CREATE UNIQUE INDEX campaign_url ON public.campaign(url)**\n",
        "\n",
        "3. Table Ads_Spent\n",
        "\n",
        "**CREATE UNIQUE INDEX ads_short_url_date_id_unique ON public.ads_spent(short_url, date_id)**\n",
        "\n",
        "4. Table Visit\n",
        "\n",
        "**CREATE UNIQUE INDEX visit_campaign_url_date_id_unique ON public.visit(campaign_url, date_id)**"
      ]
    },
    {
      "cell_type": "markdown",
      "metadata": {
        "id": "moIlPyrujDsW"
      },
      "source": [
        "# Procedure"
      ]
    },
    {
      "cell_type": "markdown",
      "metadata": {
        "id": "ndTahR_OjIBe"
      },
      "source": [
        "\n",
        "\n",
        "```\n",
        "CREATE FUNCTION ads_performance(p_somedate date) RETURNS SETOF donation AS\n",
        "$BODY$\n",
        "BEGIN\n",
        "    RETURN QUERY SELECT donation.campaign_id,\n",
        "    TO_DATE(FROM_UNIXTIME(donation.created,'yyyy/MM/dd'), 'yyyy/MM/dd') AS day,\n",
        "    SUM(donation.amount) AS total_amount,\n",
        "    COUNT(donation.campaign_id) AS total_donation,\n",
        "    campaign.url, SUM(visit.pageview) AS total_pageview, SUM(visit.unique_user) AS new_user, ads_spent.spend,\n",
        "    CASE WHEN SUM(visit.pageview) = 0 THEN 0\n",
        "    ELSE NVL((count(donation.campaign_id)/ SUM(visit.pageview))*100,0) END convertion_rate,\n",
        "    NVL((ads_spent.spend / sum(donation.amount))*100,0) AS percentage_spending_donation\n",
        "    FROM donation\n",
        "    LEFT JOIN campaign ON campaign.id = donation.campaign_id\n",
        "    LEFT JOIN visit ON visit.date_id = TO_DATE(FROM_UNIXTIME(donation.created,'yyyy/MM/dd'), 'yyyy/MM/dd')\n",
        "    AND campaign.url = visit.campaign_url\n",
        "    LEFT JOIN ads_spent ON ads_spent.date_id = TO_DATE(FROM_UNIXTIME(donation.created,'yyyy/MM/dd'), 'yyyy/MM/dd')\n",
        "    AND campaign.url = ads_spent.short_url\n",
        "    AND TO_DATE(FROM_UNIXTIME(donation.created,'yyyy/MM/dd'), 'yyyy/MM/dd') = p_somedate\n",
        "    GROUP BY day, donation.campaign_id, campaign.url, ads_spent.spend\n",
        "    ORDER BY day, donation.campaign_id, convertion_rate DESC;\n",
        "\n",
        " END;\n",
        "$BODY$\n",
        "LANGUAGE plpgsql;\n",
        "```\n",
        "\n"
      ]
    },
    {
      "cell_type": "markdown",
      "metadata": {
        "id": "3Colb-FGxRaj"
      },
      "source": [
        "\n",
        "\n",
        "```\n",
        "SELECT * FROM ads_performance('2019-12-03');\n",
        "```\n",
        "\n"
      ]
    }
  ]
}